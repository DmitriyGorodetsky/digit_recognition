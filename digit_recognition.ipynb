{
  "nbformat": 4,
  "nbformat_minor": 0,
  "metadata": {
    "colab": {
      "name": "digit recognition.ipynb",
      "provenance": []
    },
    "kernelspec": {
      "name": "python3",
      "display_name": "Python 3"
    },
    "accelerator": "GPU"
  },
  "cells": [
    {
      "cell_type": "markdown",
      "metadata": {
        "id": "EPyKZxiSFwWQ"
      },
      "source": [
        "# Завантаження датасету"
      ]
    },
    {
      "cell_type": "code",
      "metadata": {
        "colab": {
          "base_uri": "https://localhost:8080/",
          "height": 319
        },
        "id": "lrbHBABZE4qy",
        "outputId": "1c35b146-d403-4e78-b0ea-e1314c895191"
      },
      "source": [
        "from keras.datasets import mnist\r\n",
        "from matplotlib import pyplot as plt\r\n",
        "from google.colab import drive\r\n",
        "drive.mount('/content/drive')\r\n",
        "(trainX, trainY), (testX, testY) = mnist.load_data()\r\n",
        "print('Train: X=%s, y=%s' % (trainX.shape, trainY.shape))\r\n",
        "print('Test: X=%s, y=%s' % (testX.shape, testY.shape))\r\n",
        "for i in range(9):\r\n",
        "\tplt.subplot(330 + 1 + i)\r\n",
        "\tplt.imshow(trainX[i], cmap=plt.get_cmap('gray'))\r\n",
        "plt.show()\r\n"
      ],
      "execution_count": 31,
      "outputs": [
        {
          "output_type": "stream",
          "text": [
            "Drive already mounted at /content/drive; to attempt to forcibly remount, call drive.mount(\"/content/drive\", force_remount=True).\n",
            "Train: X=(60000, 28, 28), y=(60000,)\n",
            "Test: X=(10000, 28, 28), y=(10000,)\n"
          ],
          "name": "stdout"
        },
        {
          "output_type": "display_data",
          "data": {
            "image/png": "[encoded data removed]",
            "text/plain": [
              "<Figure size 432x288 with 9 Axes>"
            ]
          },
          "metadata": {
            "tags": [],
            "needs_background": "light"
          }
        }
      ]
    },
    {
      "cell_type": "markdown",
      "metadata": {
        "id": "awRL5MFPIApR"
      },
      "source": [
        "# Підготовка та нормування датасету"
      ]
    },
    {
      "cell_type": "code",
      "metadata": {
        "id": "7oWzymvbG0nk"
      },
      "source": [
        "from tensorflow.keras.utils import to_categorical\r\n",
        "trainX = trainX.reshape((trainX.shape[0], 28, 28, 1))\r\n",
        "testX = testX.reshape((testX.shape[0], 28, 28, 1))\r\n",
        "trainY = to_categorical(trainY)\r\n",
        "testY = to_categorical(testY)\r\n",
        "trainX = trainX.astype('float32')\r\n",
        "testX = testX.astype('float32')\r\n",
        "trainX = trainX / 255.0\r\n",
        "testX = testX / 255.0"
      ],
      "execution_count": 32,
      "outputs": []
    },
    {
      "cell_type": "markdown",
      "metadata": {
        "id": "C7N31nw4J1uG"
      },
      "source": [
        "# Визначення моделі згорткової нейронної мережі"
      ]
    },
    {
      "cell_type": "code",
      "metadata": {
        "id": "VMs0uO8bJ1XD"
      },
      "source": [
        "from keras.models import Sequential\r\n",
        "from keras.layers import Dense, Flatten, Activation\r\n",
        "from keras.layers.convolutional import Conv2D, MaxPooling2D\r\n",
        "from keras.optimizers import SGD\r\n",
        "from keras import layers\r\n",
        "model = Sequential()\r\n",
        "model.add(Conv2D(32, (3, 3), activation='relu', kernel_initializer='he_uniform', \r\n",
        "                 input_shape=(28, 28, 1)))\r\n",
        "model.add(MaxPooling2D((2, 2)))\r\n",
        "model.add(Flatten())\r\n",
        "model.add(Dense(100, activation='relu', kernel_initializer='he_uniform'))\r\n",
        "model.add(Dense(10, activation='softmax'))\r\n",
        "opt = SGD(lr=0.01, momentum=0.9)\r\n",
        "model.compile(optimizer=opt, loss='categorical_crossentropy', \r\n",
        "              metrics=['accuracy'])"
      ],
      "execution_count": 33,
      "outputs": []
    },
    {
      "cell_type": "markdown",
      "metadata": {
        "id": "IrrRrgVKMrhB"
      },
      "source": [
        "# Тренування моделі та оцінка її точності за допомогою 4-кратного перехресного затвердження"
      ]
    },
    {
      "cell_type": "code",
      "metadata": {
        "colab": {
          "base_uri": "https://localhost:8080/"
        },
        "id": "TUpDXzwfMrsK",
        "outputId": "fbba301a-efa8-4862-e164-325e67c6ff8e"
      },
      "source": [
        "from sklearn.model_selection import KFold\r\n",
        "scores, histories = list(), list()\r\n",
        "kfold = KFold(4, shuffle=True, random_state=1)\r\n",
        "for train_ix, test_ix in kfold.split(trainX):\r\n",
        "\t\ttrainx, trainy, testx, testy = trainX[train_ix], trainY[train_ix], trainX[test_ix], trainY[test_ix]\r\n",
        "\t\thistory = model.fit(trainx, trainy, epochs=10, batch_size=32, \r\n",
        "                      validation_data=(testx, testy), verbose=2)\r\n",
        "\t\t_, acc = model.evaluate(testx, testy, verbose=2)\r\n",
        "\t\tprint('> %.3f' % (acc * 100.0))\r\n",
        "\t\tscores.append(acc)\r\n",
        "\t\thistories.append(history)"
      ],
      "execution_count": 34,
      "outputs": [
        {
          "output_type": "stream",
          "text": [
            "Epoch 1/10\n",
            "1407/1407 - 4s - loss: 0.1970 - accuracy: 0.9386 - val_loss: 0.0914 - val_accuracy: 0.9748\n",
            "Epoch 2/10\n",
            "1407/1407 - 4s - loss: 0.0661 - accuracy: 0.9797 - val_loss: 0.0732 - val_accuracy: 0.9794\n",
            "Epoch 3/10\n",
            "1407/1407 - 4s - loss: 0.0422 - accuracy: 0.9867 - val_loss: 0.0779 - val_accuracy: 0.9773\n",
            "Epoch 4/10\n",
            "1407/1407 - 4s - loss: 0.0277 - accuracy: 0.9916 - val_loss: 0.0620 - val_accuracy: 0.9826\n",
            "Epoch 5/10\n",
            "1407/1407 - 4s - loss: 0.0189 - accuracy: 0.9946 - val_loss: 0.0597 - val_accuracy: 0.9831\n",
            "Epoch 6/10\n",
            "1407/1407 - 4s - loss: 0.0130 - accuracy: 0.9960 - val_loss: 0.0637 - val_accuracy: 0.9821\n",
            "Epoch 7/10\n",
            "1407/1407 - 4s - loss: 0.0094 - accuracy: 0.9975 - val_loss: 0.0564 - val_accuracy: 0.9849\n",
            "Epoch 8/10\n",
            "1407/1407 - 4s - loss: 0.0056 - accuracy: 0.9989 - val_loss: 0.0870 - val_accuracy: 0.9770\n",
            "Epoch 9/10\n",
            "1407/1407 - 4s - loss: 0.0045 - accuracy: 0.9991 - val_loss: 0.0596 - val_accuracy: 0.9851\n",
            "Epoch 10/10\n",
            "1407/1407 - 4s - loss: 0.0032 - accuracy: 0.9994 - val_loss: 0.0565 - val_accuracy: 0.9864\n",
            "469/469 - 1s - loss: 0.0565 - accuracy: 0.9864\n",
            "> 98.640\n",
            "Epoch 1/10\n",
            "1407/1407 - 4s - loss: 0.0290 - accuracy: 0.9921 - val_loss: 0.0131 - val_accuracy: 0.9960\n",
            "Epoch 2/10\n",
            "1407/1407 - 4s - loss: 0.0145 - accuracy: 0.9960 - val_loss: 0.0076 - val_accuracy: 0.9983\n",
            "Epoch 3/10\n",
            "1407/1407 - 4s - loss: 0.0090 - accuracy: 0.9978 - val_loss: 0.0070 - val_accuracy: 0.9981\n",
            "Epoch 4/10\n",
            "1407/1407 - 4s - loss: 0.0048 - accuracy: 0.9991 - val_loss: 0.0070 - val_accuracy: 0.9982\n",
            "Epoch 5/10\n",
            "1407/1407 - 4s - loss: 0.0026 - accuracy: 0.9997 - val_loss: 0.0055 - val_accuracy: 0.9988\n",
            "Epoch 6/10\n",
            "1407/1407 - 4s - loss: 0.0015 - accuracy: 0.9999 - val_loss: 0.0045 - val_accuracy: 0.9988\n",
            "Epoch 7/10\n",
            "1407/1407 - 4s - loss: 9.6499e-04 - accuracy: 1.0000 - val_loss: 0.0055 - val_accuracy: 0.9987\n",
            "Epoch 8/10\n",
            "1407/1407 - 4s - loss: 7.3855e-04 - accuracy: 1.0000 - val_loss: 0.0055 - val_accuracy: 0.9985\n",
            "Epoch 9/10\n",
            "1407/1407 - 4s - loss: 6.1190e-04 - accuracy: 1.0000 - val_loss: 0.0047 - val_accuracy: 0.9986\n",
            "Epoch 10/10\n",
            "1407/1407 - 4s - loss: 5.0869e-04 - accuracy: 1.0000 - val_loss: 0.0049 - val_accuracy: 0.9987\n",
            "469/469 - 1s - loss: 0.0049 - accuracy: 0.9987\n",
            "> 99.873\n",
            "Epoch 1/10\n",
            "1407/1407 - 4s - loss: 0.0051 - accuracy: 0.9984 - val_loss: 0.0013 - val_accuracy: 0.9999\n",
            "Epoch 2/10\n",
            "1407/1407 - 4s - loss: 0.0030 - accuracy: 0.9994 - val_loss: 0.0011 - val_accuracy: 1.0000\n",
            "Epoch 3/10\n",
            "1407/1407 - 4s - loss: 9.0479e-04 - accuracy: 1.0000 - val_loss: 7.8651e-04 - val_accuracy: 0.9999\n",
            "Epoch 4/10\n",
            "1407/1407 - 4s - loss: 4.9817e-04 - accuracy: 1.0000 - val_loss: 6.5733e-04 - val_accuracy: 1.0000\n",
            "Epoch 5/10\n",
            "1407/1407 - 4s - loss: 3.9087e-04 - accuracy: 1.0000 - val_loss: 6.2845e-04 - val_accuracy: 1.0000\n",
            "Epoch 6/10\n",
            "1407/1407 - 4s - loss: 3.3638e-04 - accuracy: 1.0000 - val_loss: 6.2470e-04 - val_accuracy: 1.0000\n",
            "Epoch 7/10\n",
            "1407/1407 - 4s - loss: 3.0111e-04 - accuracy: 1.0000 - val_loss: 6.2805e-04 - val_accuracy: 1.0000\n",
            "Epoch 8/10\n",
            "1407/1407 - 4s - loss: 2.7147e-04 - accuracy: 1.0000 - val_loss: 6.2319e-04 - val_accuracy: 1.0000\n",
            "Epoch 9/10\n",
            "1407/1407 - 4s - loss: 2.4553e-04 - accuracy: 1.0000 - val_loss: 6.2428e-04 - val_accuracy: 1.0000\n",
            "Epoch 10/10\n",
            "1407/1407 - 4s - loss: 2.2824e-04 - accuracy: 1.0000 - val_loss: 6.2945e-04 - val_accuracy: 1.0000\n",
            "469/469 - 1s - loss: 6.2945e-04 - accuracy: 1.0000\n",
            "> 100.000\n",
            "Epoch 1/10\n",
            "1407/1407 - 4s - loss: 4.0491e-04 - accuracy: 1.0000 - val_loss: 1.9955e-04 - val_accuracy: 1.0000\n",
            "Epoch 2/10\n",
            "1407/1407 - 4s - loss: 2.8538e-04 - accuracy: 1.0000 - val_loss: 1.8392e-04 - val_accuracy: 1.0000\n",
            "Epoch 3/10\n",
            "1407/1407 - 4s - loss: 2.3798e-04 - accuracy: 1.0000 - val_loss: 1.7405e-04 - val_accuracy: 1.0000\n",
            "Epoch 4/10\n",
            "1407/1407 - 4s - loss: 2.1425e-04 - accuracy: 1.0000 - val_loss: 1.7351e-04 - val_accuracy: 1.0000\n",
            "Epoch 5/10\n",
            "1407/1407 - 4s - loss: 1.9976e-04 - accuracy: 1.0000 - val_loss: 1.8543e-04 - val_accuracy: 1.0000\n",
            "Epoch 6/10\n",
            "1407/1407 - 4s - loss: 1.8700e-04 - accuracy: 1.0000 - val_loss: 1.7998e-04 - val_accuracy: 1.0000\n",
            "Epoch 7/10\n",
            "1407/1407 - 4s - loss: 1.7379e-04 - accuracy: 1.0000 - val_loss: 1.8159e-04 - val_accuracy: 1.0000\n",
            "Epoch 8/10\n",
            "1407/1407 - 4s - loss: 1.6385e-04 - accuracy: 1.0000 - val_loss: 1.8626e-04 - val_accuracy: 1.0000\n",
            "Epoch 9/10\n",
            "1407/1407 - 4s - loss: 1.5466e-04 - accuracy: 1.0000 - val_loss: 1.8332e-04 - val_accuracy: 1.0000\n",
            "Epoch 10/10\n",
            "1407/1407 - 4s - loss: 1.4830e-04 - accuracy: 1.0000 - val_loss: 1.8241e-04 - val_accuracy: 1.0000\n",
            "469/469 - 1s - loss: 1.8241e-04 - accuracy: 1.0000\n",
            "> 100.000\n"
          ],
          "name": "stdout"
        }
      ]
    },
    {
      "cell_type": "markdown",
      "metadata": {
        "id": "jE-jfidbPZXr"
      },
      "source": [
        "# Зображення графіків функції втрат та точності класифікації"
      ]
    },
    {
      "cell_type": "code",
      "metadata": {
        "colab": {
          "base_uri": "https://localhost:8080/",
          "height": 385
        },
        "id": "F_PfdtFmPZjN",
        "outputId": "cda022bb-e945-44ad-ec5c-73397368b7e5"
      },
      "source": [
        "for i in range(len(histories)):\r\n",
        "\t\t# plot loss\r\n",
        "\t\tplt.subplot(2, 1, 1)\r\n",
        "\t\tplt.title('Cross Entropy Loss')\r\n",
        "\t\tplt.plot(histories[i].history['loss'], color='blue', label='train')\r\n",
        "\t\tplt.plot(histories[i].history['val_loss'], color='orange', label='test')\r\n",
        "\t\t# plot accuracy\r\n",
        "\t\tplt.subplot(2, 1, 2)\r\n",
        "\t\tplt.title('Classification Accuracy')\r\n",
        "\t\tplt.plot(histories[i].history['accuracy'], color='blue', label='train')\r\n",
        "\t\tplt.plot(histories[i].history['val_accuracy'], color='orange', label='test')\r\n",
        "plt.tight_layout()\r\n",
        "plt.show()"
      ],
      "execution_count": 35,
      "outputs": [
        {
          "output_type": "stream",
          "text": [
            "/usr/local/lib/python3.6/dist-packages/ipykernel_launcher.py:3: MatplotlibDeprecationWarning: Adding an axes using the same arguments as a previous axes currently reuses the earlier instance.  In a future version, a new instance will always be created and returned.  Meanwhile, this warning can be suppressed, and the future behavior ensured, by passing a unique label to each axes instance.\n",
            "  This is separate from the ipykernel package so we can avoid doing imports until\n",
            "/usr/local/lib/python3.6/dist-packages/ipykernel_launcher.py:8: MatplotlibDeprecationWarning: Adding an axes using the same arguments as a previous axes currently reuses the earlier instance.  In a future version, a new instance will always be created and returned.  Meanwhile, this warning can be suppressed, and the future behavior ensured, by passing a unique label to each axes instance.\n",
            "  \n"
          ],
          "name": "stderr"
        },
        {
          "output_type": "display_data",
          "data": {
            "image/png": "[encoded data removed]",
            "text/plain": [
              "<Figure size 432x288 with 2 Axes>"
            ]
          },
          "metadata": {
            "tags": [],
            "needs_background": "light"
          }
        }
      ]
    },
    {
      "cell_type": "markdown",
      "metadata": {
        "id": "Nj4hSs7iR9Nx"
      },
      "source": [
        "# Збереження натренованої моделі"
      ]
    },
    {
      "cell_type": "code",
      "metadata": {
        "colab": {
          "base_uri": "https://localhost:8080/"
        },
        "id": "7Xu6sv8XR9Xq",
        "outputId": "22d141e5-ae78-4427-a1d8-bf5837fb7106"
      },
      "source": [
        "model.save('content/drive/MyDrive/project/my_model')"
      ],
      "execution_count": 36,
      "outputs": [
        {
          "output_type": "stream",
          "text": [
            "INFO:tensorflow:Assets written to: content/drive/MyDrive/project/my_model/assets\n"
          ],
          "name": "stdout"
        }
      ]
    },
    {
      "cell_type": "markdown",
      "metadata": {
        "id": "tkLKkciSR9l4"
      },
      "source": [
        "# Завантаження натренованої моделі та реалізація режиму розпізнавання"
      ]
    },
    {
      "cell_type": "code",
      "metadata": {
        "colab": {
          "base_uri": "https://localhost:8080/",
          "height": 319
        },
        "id": "eaUKPqOkR9tZ",
        "outputId": "760b07db-8bf5-4aec-f95e-82ba15d3f7f7"
      },
      "source": [
        "from keras.preprocessing.image import load_img\r\n",
        "from keras.preprocessing.image import img_to_array\r\n",
        "from keras.models import load_model\r\n",
        "import numpy as np\r\n",
        "\r\n",
        "\r\n",
        "model = load_model('/content/content/drive/MyDrive/project/my_model')   \r\n",
        "img = load_img('drive/MyDrive/project/0.jpg', color_mode=\"grayscale\", target_size=(28, 28))\r\n",
        "img = np.invert(img)\r\n",
        "plt.imshow(img, cmap=plt.get_cmap('gray'))\r\n",
        "plt.show()\r\n",
        "img = img_to_array(img)\r\n",
        "img = img.reshape(1, 28, 28, 1)\r\n",
        "img = img.astype('float32')\r\n",
        "img = img / 255.0\r\n",
        "digit = np.argmax(model.predict(img), axis=-1)\r\n",
        "print(\"Розпізнана цифра: \", digit[0])"
      ],
      "execution_count": 50,
      "outputs": [
        {
          "output_type": "display_data",
          "data": {
            "image/png": "[encoded data removed]",
            "text/plain": [
              "<Figure size 432x288 with 1 Axes>"
            ]
          },
          "metadata": {
            "tags": [],
            "needs_background": "light"
          }
        },
        {
          "output_type": "stream",
          "text": [
            "WARNING:tensorflow:11 out of the last 11 calls to <function Model.make_predict_function.<locals>.predict_function at 0x7f288047fe18> triggered tf.function retracing. Tracing is expensive and the excessive number of tracings could be due to (1) creating @tf.function repeatedly in a loop, (2) passing tensors with different shapes, (3) passing Python objects instead of tensors. For (1), please define your @tf.function outside of the loop. For (2), @tf.function has experimental_relax_shapes=True option that relaxes argument shapes that can avoid unnecessary retracing. For (3), please refer to https://www.tensorflow.org/guide/function#controlling_retracing and https://www.tensorflow.org/api_docs/python/tf/function for  more details.\n",
            "Розпізнана цифра:  0\n"
          ],
          "name": "stdout"
        }
      ]
    },
    {
      "cell_type": "markdown",
      "metadata": {
        "id": "XS2CZJq7KmSz"
      },
      "source": [
        "# Висновки\r\n",
        "Натренована модель показала дуже гарну точність на тестових даних з датасету Mnist - точність розпізнавання доходила до 100%. При розпізнаванні власноруч зроблених фото модель показувала меншу точність. Дані результати можуть бути пояснені багатьма факторами, як то: \r\n",
        "- якість фото, забезпечене камерою;\r\n",
        "- освітлення, тіні;\r\n",
        "- папір та колір ручки, наскільки жирним вийшов контур цифри (можна бачити, що цифри з датасету мають значно більший контур, ніж написані власноруч);\r\n",
        "- процес стискання фото до розміру 28х28 тощо.\r\n",
        "\r\n",
        "Але навіть за таких умов модель досить добре розпізнала деякі власноруч написані цифри, як то 0, 3, 8 і плутала цифри, що досить схожі одне на одну (5 і 6, 6 та 8 тощо).\r\n",
        "Напрямками для поліпшення розпізнавання цифр, що не знаходяться в датасеті Mnist є:\r\n",
        "- збільшення розміру написанної цифри (її висоти та ширини);\r\n",
        "- збільшення якості фото;\r\n",
        "- ускладення структури нейронної мережі для більш ефективного розпізнавання образів, що не знаходяться у вибірці."
      ]
    }
  ]
}